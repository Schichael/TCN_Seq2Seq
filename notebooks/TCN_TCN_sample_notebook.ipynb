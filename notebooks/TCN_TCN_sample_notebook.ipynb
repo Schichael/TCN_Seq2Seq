{
 "cells": [
  {
   "cell_type": "markdown",
   "source": [
    "# Example Notebook for none-regressive TCN-TCN model"
   ],
   "metadata": {
    "collapsed": false,
    "pycharm": {
     "name": "#%% md\n"
    }
   }
  },
  {
   "cell_type": "code",
   "execution_count": 1,
   "outputs": [
    {
     "name": "stderr",
     "output_type": "stream",
     "text": [
      "2022-07-05 21:16:54.101125: I tensorflow/stream_executor/platform/default/dso_loader.cc:53] Successfully opened dynamic library libcudart.so.11.0\n",
      "/home/michael/Projects/TCN_Seq2Seq/venv/lib/python3.8/site-packages/tensorflow/python/keras/optimizer_v2/optimizer_v2.py:374: UserWarning: The `lr` argument is deprecated, use `learning_rate` instead.\n",
      "  warnings.warn(\n"
     ]
    }
   ],
   "source": [
    "from tcn_sequence_models.data_processing.preprocessor import Preprocessor\n",
    "from tcn_sequence_models.models import TCN_Seq2Seq\n",
    "from tensorflow.keras.callbacks import EarlyStopping\n",
    "import matplotlib.pyplot as plt\n",
    "import pandas as pd\n",
    "import os\n",
    "from tcn_sequence_models.utils.scaling import inverse_scale_sequences\n",
    "import numpy as np"
   ],
   "metadata": {
    "collapsed": false,
    "pycharm": {
     "name": "#%%\n"
    }
   }
  },
  {
   "cell_type": "code",
   "execution_count": 2,
   "metadata": {
    "pycharm": {
     "name": "#%%\n"
    }
   },
   "outputs": [],
   "source": [
    "#set config_path to a path on your system. There, the model and preprocessor configs\n",
    "# will be saved to.\n",
    "config_path = \"./config_TCN_TCN_none_regressive\"\n",
    "os.makedirs(name=config_path, exist_ok=True)"
   ]
  },
  {
   "cell_type": "markdown",
   "metadata": {
    "pycharm": {
     "name": "#%% md\n"
    }
   },
   "source": [
    "## Load and process data"
   ]
  },
  {
   "cell_type": "code",
   "execution_count": 3,
   "outputs": [],
   "source": [
    "url = \"https://archive.ics.uci.edu/ml/machine-learning-databases/00616/Tetuan%20City%20power%20consumption.csv\"\n",
    "df = pd.read_csv(url)"
   ],
   "metadata": {
    "collapsed": false,
    "pycharm": {
     "name": "#%%\n"
    }
   }
  },
  {
   "cell_type": "code",
   "execution_count": 4,
   "outputs": [],
   "source": [
    "time_col = 'DateTime'\n",
    "df[time_col]= pd.to_datetime(df[time_col])"
   ],
   "metadata": {
    "collapsed": false,
    "pycharm": {
     "name": "#%%\n"
    }
   }
  },
  {
   "cell_type": "code",
   "execution_count": 5,
   "metadata": {
    "pycharm": {
     "name": "#%%\n"
    }
   },
   "outputs": [],
   "source": [
    "# Define features to use\n",
    "features_input_encoder = [\n",
    "    \"Temperature\",\n",
    "    \"Humidity\",\n",
    "    \"Wind Speed\",\n",
    "    \"general diffuse flows\",\n",
    "    \"diffuse flows\"\n",
    "]\n",
    "\n",
    "features_input_decoder = [\n",
    "]\n",
    "\n",
    "feature_target = \"Zone 1 Power Consumption\""
   ]
  },
  {
   "cell_type": "code",
   "execution_count": 6,
   "outputs": [],
   "source": [
    "# Add temporal encodings. Possible are: 'seasons', 'months', 'weekdays' and 'hours'\n",
    "temporal_encoding_modes = [\"weekdays\", \"hours\"]"
   ],
   "metadata": {
    "collapsed": false,
    "pycharm": {
     "name": "#%%\n"
    }
   }
  },
  {
   "cell_type": "code",
   "execution_count": 13,
   "metadata": {
    "pycharm": {
     "name": "#%%\n"
    }
   },
   "outputs": [],
   "source": [
    "split_ratio = 0.7\n",
    "input_seq_len = 200\n",
    "output_seq_len = 50\n",
    "# Here use the none-regressive model. If you want to use the auto-regressive model\n",
    "# with teacher-forcing, set it to True\n",
    "autoregressive = False"
   ]
  },
  {
   "cell_type": "code",
   "execution_count": 14,
   "outputs": [],
   "source": [
    "preprocessor = Preprocessor(df)"
   ],
   "metadata": {
    "collapsed": false,
    "pycharm": {
     "name": "#%%\n"
    }
   }
  },
  {
   "cell_type": "code",
   "execution_count": 15,
   "metadata": {
    "pycharm": {
     "name": "#%%\n"
    }
   },
   "outputs": [],
   "source": [
    "# split_date = datetime.date(2019, 1, 1)\n",
    "preprocessor.process(\n",
    "    features_input_encoder,\n",
    "    features_input_decoder,\n",
    "    feature_target,\n",
    "    input_seq_len,\n",
    "    output_seq_len,\n",
    "    model_type=\"tcn_tcn\",\n",
    "    time_col=time_col,\n",
    "    split_ratio = split_ratio,\n",
    "    split_date = None,\n",
    "    temporal_encoding_modes=temporal_encoding_modes,\n",
    "    autoregressive=autoregressive,\n",
    "    )"
   ]
  },
  {
   "cell_type": "code",
   "execution_count": 16,
   "metadata": {
    "pycharm": {
     "name": "#%%\n"
    }
   },
   "outputs": [],
   "source": [
    "X_train, y_train, X_val, y_val = preprocessor.train_test_split(split_ratio)"
   ]
  },
  {
   "cell_type": "markdown",
   "metadata": {
    "pycharm": {
     "name": "#%% md\n"
    }
   },
   "source": [
    "## Create model and fit it"
   ]
  },
  {
   "cell_type": "code",
   "execution_count": 17,
   "metadata": {
    "pycharm": {
     "name": "#%%\n"
    }
   },
   "outputs": [],
   "source": [
    "from tensorflow.keras.optimizers import Adam\n",
    "\n",
    "model = TCN_Seq2Seq()\n",
    "\n",
    "model.build(\n",
    "    num_layers_tcn = None,\n",
    "    num_filters = 4,\n",
    "    kernel_size = 3,\n",
    "    dilation_base = 2,\n",
    "    dropout_rate = 0.2,\n",
    "    key_size = 4,\n",
    "    value_size = 4,\n",
    "    num_attention_heads = 2,\n",
    "    neurons_output = [16],\n",
    "    activation = \"relu\",\n",
    "    kernel_initializer = \"he_normal\",\n",
    "    batch_norm_tcn = True,\n",
    "    layer_norm_tcn = False,\n",
    "    autoregressive=autoregressive,\n",
    "    padding_encoder='same',\n",
    "    padding_decoder='same')\n",
    "model.compile(optimizer=Adam(learning_rate=0.0025, decay=1e-3))\n"
   ]
  },
  {
   "cell_type": "code",
   "execution_count": 18,
   "metadata": {
    "pycharm": {
     "name": "#%%\n"
    }
   },
   "outputs": [
    {
     "name": "stdout",
     "output_type": "stream",
     "text": [
      "Epoch 1/10\n",
      "568/568 [==============================] - 31s 41ms/step - loss: 0.2830 - val_loss: 0.1622\n",
      "Epoch 2/10\n",
      "568/568 [==============================] - 21s 37ms/step - loss: 0.1568 - val_loss: 0.1661\n",
      "Epoch 3/10\n",
      "568/568 [==============================] - 21s 37ms/step - loss: 0.1395 - val_loss: 0.1954\n",
      "Epoch 4/10\n",
      "568/568 [==============================] - 21s 37ms/step - loss: 0.1302 - val_loss: 0.1958\n"
     ]
    }
   ],
   "source": [
    "cb_early_stopping = EarlyStopping(patience=3, restore_best_weights=True)\n",
    "model.fit(X_train,\n",
    "          y_train,\n",
    "          (X_val, y_val),\n",
    "          epochs=10,\n",
    "          batch_size=64,\n",
    "          callbacks = cb_early_stopping\n",
    "          )"
   ]
  },
  {
   "cell_type": "markdown",
   "metadata": {
    "pycharm": {
     "name": "#%% md\n"
    }
   },
   "source": [
    "## Make predictions"
   ]
  },
  {
   "cell_type": "code",
   "execution_count": 19,
   "outputs": [],
   "source": [
    "y_pred = model.predict(X_val)"
   ],
   "metadata": {
    "collapsed": false,
    "pycharm": {
     "name": "#%%\n"
    }
   }
  },
  {
   "cell_type": "code",
   "execution_count": 20,
   "outputs": [],
   "source": [
    "y_pred_unscaled = inverse_scale_sequences(y_pred, preprocessor.scaler_y)\n",
    "y_val_unscaled = inverse_scale_sequences(np.expand_dims(y_val, axis=-1),\n",
    "                                                        preprocessor.scaler_y)"
   ],
   "metadata": {
    "collapsed": false,
    "pycharm": {
     "name": "#%%\n"
    }
   }
  },
  {
   "cell_type": "code",
   "execution_count": 21,
   "outputs": [
    {
     "data": {
      "text/plain": "<Figure size 432x288 with 1 Axes>",
      "image/png": "[encoded data removed]"
     },
     "metadata": {
      "needs_background": "light"
     },
     "output_type": "display_data"
    }
   ],
   "source": [
    "plt.plot(y_pred_unscaled[3000])\n",
    "plt.plot(y_val_unscaled[3000])\n",
    "plt.show()"
   ],
   "metadata": {
    "collapsed": false,
    "pycharm": {
     "name": "#%%\n"
    }
   }
  },
  {
   "cell_type": "markdown",
   "source": [
    "## Save the preprocessor and the model"
   ],
   "metadata": {
    "collapsed": false,
    "pycharm": {
     "name": "#%% md\n"
    }
   }
  },
  {
   "cell_type": "code",
   "execution_count": 22,
   "outputs": [],
   "source": [
    "preprocessor.save_preprocessor_config(save_path=config_path)"
   ],
   "metadata": {
    "collapsed": false,
    "pycharm": {
     "name": "#%%\n"
    }
   }
  },
  {
   "cell_type": "code",
   "execution_count": 23,
   "outputs": [],
   "source": [
    "model.save_model(config_path)"
   ],
   "metadata": {
    "collapsed": false,
    "pycharm": {
     "name": "#%%\n"
    }
   }
  },
  {
   "cell_type": "markdown",
   "source": [
    "## Load the saved preprocessor and model"
   ],
   "metadata": {
    "collapsed": false,
    "pycharm": {
     "name": "#%% md\n"
    }
   }
  },
  {
   "cell_type": "code",
   "execution_count": 24,
   "outputs": [],
   "source": [
    "preprocessor_loaded = Preprocessor(df)\n",
    "preprocessor_loaded.load_preprocessor_config(load_path=config_path)"
   ],
   "metadata": {
    "collapsed": false,
    "pycharm": {
     "name": "#%%\n"
    }
   }
  },
  {
   "cell_type": "code",
   "execution_count": 25,
   "outputs": [],
   "source": [
    "# Load with the intention to only use the model for inference. If the model shall be\n",
    "# trained, use process_from_config_training() and the get the training data with the\n",
    "# train_test_split() method.\n",
    "preprocessor_loaded.process_from_config_inference()"
   ],
   "metadata": {
    "collapsed": false,
    "pycharm": {
     "name": "#%%\n"
    }
   }
  },
  {
   "cell_type": "code",
   "execution_count": 26,
   "outputs": [],
   "source": [
    "model_loaded = TCN_Seq2Seq()"
   ],
   "metadata": {
    "collapsed": false,
    "pycharm": {
     "name": "#%%\n"
    }
   }
  },
  {
   "cell_type": "code",
   "execution_count": 27,
   "outputs": [],
   "source": [
    "model_loaded.load_model(config_path, preprocessor_loaded.X, is_training_data=False)\n",
    "# If you use the autoregressive model:\n",
    "# model_loaded.load_model(config_path, X_init[:3],\n",
    "# is_training_data=True)"
   ],
   "metadata": {
    "collapsed": false,
    "pycharm": {
     "name": "#%%\n"
    }
   }
  },
  {
   "cell_type": "code",
   "execution_count": 28,
   "outputs": [],
   "source": [
    "y_pred = model_loaded.predict(preprocessor_loaded.X)"
   ],
   "metadata": {
    "collapsed": false,
    "pycharm": {
     "name": "#%%\n"
    }
   }
  },
  {
   "cell_type": "code",
   "execution_count": 29,
   "outputs": [],
   "source": [
    "y_pred_unscaled = inverse_scale_sequences(y_pred, preprocessor_loaded.scaler_y)\n",
    "y_true_unscaled = inverse_scale_sequences(np.expand_dims(preprocessor.y, axis=-1),\n",
    "                                                        preprocessor_loaded.scaler_y)"
   ],
   "metadata": {
    "collapsed": false,
    "pycharm": {
     "name": "#%%\n"
    }
   }
  },
  {
   "cell_type": "code",
   "execution_count": 30,
   "outputs": [
    {
     "data": {
      "text/plain": "<Figure size 432x288 with 1 Axes>",
      "image/png": "[encoded data removed]"
     },
     "metadata": {
      "needs_background": "light"
     },
     "output_type": "display_data"
    }
   ],
   "source": [
    "plt.plot(y_pred_unscaled[1000])\n",
    "plt.plot(y_true_unscaled[1000])\n",
    "plt.show()"
   ],
   "metadata": {
    "collapsed": false,
    "pycharm": {
     "name": "#%%\n"
    }
   }
  },
  {
   "cell_type": "markdown",
   "source": [
    "## Run bayessian optimizer to find the optimal hyperparameters"
   ],
   "metadata": {
    "collapsed": false,
    "pycharm": {
     "name": "#%% md\n"
    }
   }
  },
  {
   "cell_type": "code",
   "execution_count": 53,
   "metadata": {
    "pycharm": {
     "name": "#%%\n"
    }
   },
   "outputs": [
    {
     "name": "stdout",
     "output_type": "stream",
     "text": [
      "Trial 2 Complete [00h 02m 20s]\n",
      "val_loss: 0.18431484699249268\n",
      "\n",
      "Best val_loss So Far: 0.18036608397960663\n",
      "Total elapsed time: 00h 04m 41s\n",
      "INFO:tensorflow:Oracle triggered exit\n"
     ]
    }
   ],
   "source": [
    "model.parameter_search(\n",
    "        X_train,\n",
    "        y_train,\n",
    "        X_val,\n",
    "        y_val,\n",
    "        batch_size = 64,\n",
    "        results_path = \"./search_1\",\n",
    "        patience=3,\n",
    "        loss = \"mse\",\n",
    "        max_trials = 2,\n",
    "        executions_per_trial = 1,\n",
    "        num_filters = [4, 6, 8],\n",
    "        neurons_output = [16],\n",
    "        kernel_size = [5, 9, 13, 17],\n",
    "        dilation_base = [2],\n",
    "        dropout_rate = [0.1, 0.2, 0.3],\n",
    "        key_value_size = [4, 6, 8],\n",
    "        num_attention_heads = [1, 2],\n",
    "        activation = [\"elu\"],\n",
    "        kernel_initializer = [\"he_normal\"],\n",
    "        batch_norm_tcn = [False],\n",
    "        layer_norm_tcn = [True],\n",
    "        padding_encoder = ['same', 'causal'],\n",
    "        padding_decoder = ['same', 'causal']\n",
    "    )\n"
   ]
  }
 ],
 "metadata": {
  "kernelspec": {
   "display_name": "Python 3",
   "language": "python",
   "name": "python3"
  },
  "language_info": {
   "codemirror_mode": {
    "name": "ipython",
    "version": 3
   },
   "file_extension": ".py",
   "mimetype": "text/x-python",
   "name": "python",
   "nbconvert_exporter": "python",
   "pygments_lexer": "ipython3",
   "version": "3.8.5"
  }
 },
 "nbformat": 4,
 "nbformat_minor": 1
}