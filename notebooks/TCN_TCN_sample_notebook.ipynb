{
 "cells": [
  {
   "cell_type": "markdown",
   "source": [
    "# Example Notebook for none-regressive TCN-TCN model"
   ],
   "metadata": {
    "collapsed": false,
    "pycharm": {
     "name": "#%% md\n"
    }
   }
  },
  {
   "cell_type": "code",
   "execution_count": null,
   "outputs": [],
   "source": [
    "from tcn_sequence_models.data_processing.preprocessor import Preprocessor\n",
    "from tcn_sequence_models.models import TCN_Seq2Seq\n",
    "from tensorflow.keras.callbacks import EarlyStopping\n",
    "import matplotlib.pyplot as plt\n",
    "import pandas as pd\n",
    "import os\n",
    "from tcn_sequence_models.utils.scaling import inverse_scale_sequences\n",
    "import numpy as np"
   ],
   "metadata": {
    "collapsed": false,
    "pycharm": {
     "name": "#%%\n"
    }
   }
  },
  {
   "cell_type": "code",
   "execution_count": 2,
   "metadata": {
    "pycharm": {
     "name": "#%%\n"
    }
   },
   "outputs": [],
   "source": [
    "#set config_path to a path on your system. There, the model and preprocessor configs\n",
    "# will be saved to.\n",
    "config_path = \"./config_TCN_TCN_none_regressive\"\n",
    "os.makedirs(name=config_path, exist_ok=True)"
   ]
  },
  {
   "cell_type": "markdown",
   "metadata": {
    "pycharm": {
     "name": "#%% md\n"
    }
   },
   "source": [
    "## Load and process data"
   ]
  },
  {
   "cell_type": "code",
   "execution_count": 3,
   "outputs": [],
   "source": [
    "url = \"https://archive.ics.uci.edu/ml/machine-learning-databases/00616/Tetuan%20City%20power%20consumption.csv\"\n",
    "df = pd.read_csv(url)"
   ],
   "metadata": {
    "collapsed": false,
    "pycharm": {
     "name": "#%%\n"
    }
   }
  },
  {
   "cell_type": "code",
   "execution_count": 4,
   "outputs": [],
   "source": [
    "time_col = 'DateTime'\n",
    "df[time_col]= pd.to_datetime(df[time_col])"
   ],
   "metadata": {
    "collapsed": false,
    "pycharm": {
     "name": "#%%\n"
    }
   }
  },
  {
   "cell_type": "code",
   "execution_count": 5,
   "metadata": {
    "pycharm": {
     "name": "#%%\n"
    }
   },
   "outputs": [],
   "source": [
    "# Define features to use\n",
    "features_input_encoder = [\n",
    "    \"Temperature\",\n",
    "    \"Humidity\",\n",
    "    \"Wind Speed\",\n",
    "    \"general diffuse flows\",\n",
    "    \"diffuse flows\"\n",
    "]\n",
    "\n",
    "features_input_decoder = [\n",
    "]\n",
    "\n",
    "feature_target = \"Zone 1 Power Consumption\""
   ]
  },
  {
   "cell_type": "code",
   "execution_count": 6,
   "outputs": [],
   "source": [
    "# Add temporal encodings. Possible are: 'seasons', 'months', 'weekdays' and 'hours'\n",
    "temporal_encoding_modes = [\"weekdays\", \"hours\"]"
   ],
   "metadata": {
    "collapsed": false,
    "pycharm": {
     "name": "#%%\n"
    }
   }
  },
  {
   "cell_type": "code",
   "execution_count": 7,
   "metadata": {
    "pycharm": {
     "name": "#%%\n"
    }
   },
   "outputs": [],
   "source": [
    "split_ratio = 0.7\n",
    "input_seq_len = 100\n",
    "output_seq_len = 50\n",
    "# Here use the none-regressive model. If you want to use the auto-regressive model\n",
    "# with teacher-forcing, set it to True\n",
    "autoregressive = False"
   ]
  },
  {
   "cell_type": "code",
   "execution_count": 8,
   "outputs": [],
   "source": [
    "preprocessor = Preprocessor(df)"
   ],
   "metadata": {
    "collapsed": false,
    "pycharm": {
     "name": "#%%\n"
    }
   }
  },
  {
   "cell_type": "code",
   "execution_count": 9,
   "metadata": {
    "pycharm": {
     "name": "#%%\n"
    }
   },
   "outputs": [],
   "source": [
    "# split_date = datetime.date(2019, 1, 1)\n",
    "preprocessor.process(\n",
    "    features_input_encoder,\n",
    "    features_input_decoder,\n",
    "    feature_target,\n",
    "    input_seq_len,\n",
    "    output_seq_len,\n",
    "    model_type=\"tcn_tcn\",\n",
    "    time_col=time_col,\n",
    "    split_ratio = split_ratio,\n",
    "    split_date = None,\n",
    "    temporal_encoding_modes=temporal_encoding_modes,\n",
    "    autoregressive=autoregressive,\n",
    "    )"
   ]
  },
  {
   "cell_type": "code",
   "execution_count": 10,
   "metadata": {
    "pycharm": {
     "name": "#%%\n"
    }
   },
   "outputs": [],
   "source": [
    "X_train, y_train, X_val, y_val = preprocessor.train_test_split(split_ratio)"
   ]
  },
  {
   "cell_type": "markdown",
   "metadata": {
    "pycharm": {
     "name": "#%% md\n"
    }
   },
   "source": [
    "## Create model and fit it"
   ]
  },
  {
   "cell_type": "code",
   "execution_count": 11,
   "metadata": {
    "pycharm": {
     "name": "#%%\n"
    }
   },
   "outputs": [
    {
     "name": "stderr",
     "output_type": "stream",
     "text": [
      "2022-07-04 19:05:59.560257: I tensorflow/stream_executor/platform/default/dso_loader.cc:53] Successfully opened dynamic library libcuda.so.1\n",
      "2022-07-04 19:05:59.624297: I tensorflow/core/common_runtime/gpu/gpu_device.cc:1733] Found device 0 with properties: \n",
      "pciBusID: 0000:08:00.0 name: NVIDIA GeForce GTX 1070 computeCapability: 6.1\n",
      "coreClock: 1.7715GHz coreCount: 15 deviceMemorySize: 7.93GiB deviceMemoryBandwidth: 238.66GiB/s\n",
      "2022-07-04 19:05:59.624338: I tensorflow/stream_executor/platform/default/dso_loader.cc:53] Successfully opened dynamic library libcudart.so.11.0\n",
      "2022-07-04 19:05:59.627214: I tensorflow/stream_executor/platform/default/dso_loader.cc:53] Successfully opened dynamic library libcublas.so.11\n",
      "2022-07-04 19:05:59.627274: I tensorflow/stream_executor/platform/default/dso_loader.cc:53] Successfully opened dynamic library libcublasLt.so.11\n",
      "2022-07-04 19:05:59.628796: I tensorflow/stream_executor/platform/default/dso_loader.cc:53] Successfully opened dynamic library libcufft.so.10\n",
      "2022-07-04 19:05:59.628997: I tensorflow/stream_executor/platform/default/dso_loader.cc:53] Successfully opened dynamic library libcurand.so.10\n",
      "2022-07-04 19:05:59.629360: I tensorflow/stream_executor/platform/default/dso_loader.cc:53] Successfully opened dynamic library libcusolver.so.11\n",
      "2022-07-04 19:05:59.629895: I tensorflow/stream_executor/platform/default/dso_loader.cc:53] Successfully opened dynamic library libcusparse.so.11\n",
      "2022-07-04 19:05:59.630009: I tensorflow/stream_executor/platform/default/dso_loader.cc:53] Successfully opened dynamic library libcudnn.so.8\n",
      "2022-07-04 19:05:59.631083: I tensorflow/core/common_runtime/gpu/gpu_device.cc:1871] Adding visible gpu devices: 0\n",
      "2022-07-04 19:05:59.631409: I tensorflow/core/platform/cpu_feature_guard.cc:142] This TensorFlow binary is optimized with oneAPI Deep Neural Network Library (oneDNN) to use the following CPU instructions in performance-critical operations:  AVX2 FMA\n",
      "To enable them in other operations, rebuild TensorFlow with the appropriate compiler flags.\n",
      "2022-07-04 19:05:59.632438: I tensorflow/core/common_runtime/gpu/gpu_device.cc:1733] Found device 0 with properties: \n",
      "pciBusID: 0000:08:00.0 name: NVIDIA GeForce GTX 1070 computeCapability: 6.1\n",
      "coreClock: 1.7715GHz coreCount: 15 deviceMemorySize: 7.93GiB deviceMemoryBandwidth: 238.66GiB/s\n",
      "2022-07-04 19:05:59.633536: I tensorflow/core/common_runtime/gpu/gpu_device.cc:1871] Adding visible gpu devices: 0\n",
      "2022-07-04 19:05:59.633573: I tensorflow/stream_executor/platform/default/dso_loader.cc:53] Successfully opened dynamic library libcudart.so.11.0\n",
      "2022-07-04 19:06:00.109575: I tensorflow/core/common_runtime/gpu/gpu_device.cc:1258] Device interconnect StreamExecutor with strength 1 edge matrix:\n",
      "2022-07-04 19:06:00.109604: I tensorflow/core/common_runtime/gpu/gpu_device.cc:1264]      0 \n",
      "2022-07-04 19:06:00.109611: I tensorflow/core/common_runtime/gpu/gpu_device.cc:1277] 0:   N \n",
      "2022-07-04 19:06:00.111339: I tensorflow/core/common_runtime/gpu/gpu_device.cc:1418] Created TensorFlow device (/job:localhost/replica:0/task:0/device:GPU:0 with 7061 MB memory) -> physical GPU (device: 0, name: NVIDIA GeForce GTX 1070, pci bus id: 0000:08:00.0, compute capability: 6.1)\n",
      "/home/michael/Projects/TCN_Seq2Seq/venv/lib/python3.8/site-packages/tensorflow/python/keras/optimizer_v2/optimizer_v2.py:374: UserWarning: The `lr` argument is deprecated, use `learning_rate` instead.\n",
      "  warnings.warn(\n"
     ]
    }
   ],
   "source": [
    "from tensorflow.keras.optimizers import Adam\n",
    "\n",
    "model = TCN_Seq2Seq()\n",
    "\n",
    "model.build(\n",
    "    num_layers_tcn = None,\n",
    "    num_filters = 6,\n",
    "    kernel_size = 9,\n",
    "    dilation_base = 2,\n",
    "    dropout_rate = 0.2,\n",
    "    key_size = 6,\n",
    "    value_size = 6,\n",
    "    num_attention_heads = 2,\n",
    "    neurons_output = [16],\n",
    "    activation = \"relu\",\n",
    "    kernel_initializer = \"he_normal\",\n",
    "    batch_norm_tcn = True,\n",
    "    layer_norm_tcn = False,\n",
    "    autoregressive=autoregressive,\n",
    "    padding_encoder='same',\n",
    "    padding_decoder='same')\n",
    "model.compile(optimizer=Adam(lr=0.03, decay=1e-3))\n"
   ]
  },
  {
   "cell_type": "code",
   "execution_count": 12,
   "metadata": {
    "pycharm": {
     "name": "#%%\n"
    }
   },
   "outputs": [
    {
     "name": "stderr",
     "output_type": "stream",
     "text": [
      "2022-07-04 19:06:00.338131: I tensorflow/compiler/mlir/mlir_graph_optimization_pass.cc:176] None of the MLIR Optimization Passes are enabled (registered 2)\n",
      "2022-07-04 19:06:00.338610: I tensorflow/core/platform/profile_utils/cpu_utils.cc:114] CPU Frequency: 3193490000 Hz\n"
     ]
    },
    {
     "name": "stdout",
     "output_type": "stream",
     "text": [
      "Epoch 1/10\n",
      "training call\n"
     ]
    },
    {
     "name": "stderr",
     "output_type": "stream",
     "text": [
      "2022-07-04 19:06:08.639177: I tensorflow/stream_executor/platform/default/dso_loader.cc:53] Successfully opened dynamic library libcudnn.so.8\n",
      "2022-07-04 19:06:08.996117: I tensorflow/stream_executor/cuda/cuda_dnn.cc:359] Loaded cuDNN version 8202\n",
      "2022-07-04 19:06:09.350068: E tensorflow/core/platform/default/subprocess.cc:304] Start cannot spawn child process: No such file or directory\n",
      "2022-07-04 19:06:09.350128: W tensorflow/stream_executor/gpu/asm_compiler.cc:56] Couldn't invoke ptxas --version\n",
      "2022-07-04 19:06:09.350627: E tensorflow/core/platform/default/subprocess.cc:304] Start cannot spawn child process: No such file or directory\n",
      "2022-07-04 19:06:09.350738: W tensorflow/stream_executor/gpu/redzone_allocator.cc:314] Internal: Failed to launch ptxas\n",
      "Relying on driver to perform ptx compilation. \n",
      "Modify $PATH to customize ptxas location.\n",
      "This message will be only logged once.\n",
      "2022-07-04 19:06:09.360429: I tensorflow/stream_executor/platform/default/dso_loader.cc:53] Successfully opened dynamic library libcublas.so.11\n",
      "2022-07-04 19:06:09.632891: I tensorflow/stream_executor/platform/default/dso_loader.cc:53] Successfully opened dynamic library libcublasLt.so.11\n"
     ]
    },
    {
     "name": "stdout",
     "output_type": "stream",
     "text": [
      "571/571 [==============================] - ETA: 0s - loss: 0.6947inference call\n",
      "571/571 [==============================] - 33s 41ms/step - loss: 0.6947 - val_loss: 0.4210\n",
      "Epoch 2/10\n",
      "571/571 [==============================] - 22s 39ms/step - loss: 0.1362 - val_loss: 0.2178\n",
      "Epoch 3/10\n",
      "571/571 [==============================] - 22s 39ms/step - loss: 0.1016 - val_loss: 0.1836\n",
      "Epoch 4/10\n",
      "571/571 [==============================] - 22s 39ms/step - loss: 0.0859 - val_loss: 0.2202\n",
      "Epoch 5/10\n",
      "571/571 [==============================] - 22s 39ms/step - loss: 0.0770 - val_loss: 0.1957\n",
      "Epoch 6/10\n",
      "571/571 [==============================] - 23s 39ms/step - loss: 0.0708 - val_loss: 0.2010\n"
     ]
    }
   ],
   "source": [
    "cb_early_stopping = EarlyStopping(patience=3, restore_best_weights=True)\n",
    "model.fit(X_train,\n",
    "          y_train,\n",
    "          (X_val, y_val),\n",
    "          epochs=10,\n",
    "          batch_size=64,\n",
    "          callbacks = cb_early_stopping\n",
    "          )"
   ]
  },
  {
   "cell_type": "markdown",
   "metadata": {
    "pycharm": {
     "name": "#%% md\n"
    }
   },
   "source": [
    "## Make predictions"
   ]
  },
  {
   "cell_type": "code",
   "execution_count": 17,
   "outputs": [],
   "source": [
    "y_pred = model.predict(X_val)"
   ],
   "metadata": {
    "collapsed": false,
    "pycharm": {
     "name": "#%%\n"
    }
   }
  },
  {
   "cell_type": "code",
   "execution_count": 14,
   "outputs": [],
   "source": [
    "y_pred = y_pred.squeeze(axis=-1)"
   ],
   "metadata": {
    "collapsed": false,
    "pycharm": {
     "name": "#%%\n"
    }
   }
  },
  {
   "cell_type": "code",
   "execution_count": 35,
   "outputs": [],
   "source": [
    "y_pred_unscaled = inverse_scale_sequences(y_pred, preprocessor.scaler_y)\n",
    "y_val_unscaled = inverse_scale_sequences(np.expand_dims(y_val, axis=-1),\n",
    "                                                        preprocessor.scaler_y)"
   ],
   "metadata": {
    "collapsed": false,
    "pycharm": {
     "name": "#%%\n"
    }
   }
  },
  {
   "cell_type": "code",
   "execution_count": 36,
   "outputs": [
    {
     "data": {
      "text/plain": "<Figure size 432x288 with 1 Axes>",
      "image/png": "[encoded data removed]"
     },
     "metadata": {
      "needs_background": "light"
     },
     "output_type": "display_data"
    }
   ],
   "source": [
    "plt.plot(y_pred_unscaled[3000])\n",
    "plt.plot(y_val_unscaled[3000])\n",
    "plt.show()"
   ],
   "metadata": {
    "collapsed": false,
    "pycharm": {
     "name": "#%%\n"
    }
   }
  },
  {
   "cell_type": "markdown",
   "source": [
    "## Save the preprocessor and the model"
   ],
   "metadata": {
    "collapsed": false,
    "pycharm": {
     "name": "#%% md\n"
    }
   }
  },
  {
   "cell_type": "code",
   "execution_count": 37,
   "outputs": [],
   "source": [
    "preprocessor.save_preprocessor_config(save_path=config_path)"
   ],
   "metadata": {
    "collapsed": false,
    "pycharm": {
     "name": "#%%\n"
    }
   }
  },
  {
   "cell_type": "code",
   "execution_count": 38,
   "outputs": [],
   "source": [
    "model.save_model(config_path)"
   ],
   "metadata": {
    "collapsed": false,
    "pycharm": {
     "name": "#%%\n"
    }
   }
  },
  {
   "cell_type": "markdown",
   "source": [
    "## Load the saved preprocessor and model"
   ],
   "metadata": {
    "collapsed": false,
    "pycharm": {
     "name": "#%% md\n"
    }
   }
  },
  {
   "cell_type": "code",
   "execution_count": 39,
   "outputs": [],
   "source": [
    "preprocessor_loaded = Preprocessor(df)\n",
    "preprocessor_loaded.load_preprocessor_config(load_path=config_path)"
   ],
   "metadata": {
    "collapsed": false,
    "pycharm": {
     "name": "#%%\n"
    }
   }
  },
  {
   "cell_type": "code",
   "execution_count": 40,
   "outputs": [],
   "source": [
    "# Load with the intention to only use the model for inference. If the model shall be\n",
    "# trained, use process_from_config_training() and the get the training data with the\n",
    "# train_test_split() method.\n",
    "preprocessor_loaded.process_from_config_inference()"
   ],
   "metadata": {
    "collapsed": false,
    "pycharm": {
     "name": "#%%\n"
    }
   }
  },
  {
   "cell_type": "code",
   "execution_count": 41,
   "outputs": [],
   "source": [
    "model_loaded = TCN_Seq2Seq()"
   ],
   "metadata": {
    "collapsed": false,
    "pycharm": {
     "name": "#%%\n"
    }
   }
  },
  {
   "cell_type": "code",
   "execution_count": 44,
   "outputs": [
    {
     "name": "stdout",
     "output_type": "stream",
     "text": [
      "1\n",
      "2\n",
      "3\n",
      "inference call\n",
      "4\n",
      "5\n"
     ]
    }
   ],
   "source": [
    "model_loaded.load_model(config_path, preprocessor_loaded.X, is_training_data=False)\n",
    "# If you use the autoregressive model:\n",
    "# model_loaded.load_model(config_path, X_init[:3],\n",
    "# is_training_data=True)"
   ],
   "metadata": {
    "collapsed": false,
    "pycharm": {
     "name": "#%%\n"
    }
   }
  },
  {
   "cell_type": "code",
   "execution_count": 45,
   "outputs": [
    {
     "name": "stdout",
     "output_type": "stream",
     "text": [
      "inference call\n"
     ]
    }
   ],
   "source": [
    "y_pred = model_loaded.predict(preprocessor_loaded.X)"
   ],
   "metadata": {
    "collapsed": false,
    "pycharm": {
     "name": "#%%\n"
    }
   }
  },
  {
   "cell_type": "code",
   "execution_count": 46,
   "outputs": [],
   "source": [
    "y_pred_unscaled = inverse_scale_sequences(y_pred, preprocessor_loaded.scaler_y)\n",
    "y_true_unscaled = inverse_scale_sequences(np.expand_dims(preprocessor.y, axis=-1),\n",
    "                                                        preprocessor_loaded.scaler_y)"
   ],
   "metadata": {
    "collapsed": false,
    "pycharm": {
     "name": "#%%\n"
    }
   }
  },
  {
   "cell_type": "code",
   "execution_count": 48,
   "outputs": [
    {
     "data": {
      "text/plain": "<Figure size 432x288 with 1 Axes>",
      "image/png": "[encoded data removed]"
     },
     "metadata": {
      "needs_background": "light"
     },
     "output_type": "display_data"
    }
   ],
   "source": [
    "plt.plot(y_pred_unscaled[1000])\n",
    "plt.plot(y_true_unscaled[1000])\n",
    "plt.show()"
   ],
   "metadata": {
    "collapsed": false,
    "pycharm": {
     "name": "#%%\n"
    }
   }
  },
  {
   "cell_type": "markdown",
   "source": [
    "## Run bayessian optimizer to find the optimal hyperparameters"
   ],
   "metadata": {
    "collapsed": false,
    "pycharm": {
     "name": "#%% md\n"
    }
   }
  },
  {
   "cell_type": "code",
   "execution_count": 53,
   "metadata": {
    "pycharm": {
     "name": "#%%\n"
    }
   },
   "outputs": [
    {
     "name": "stdout",
     "output_type": "stream",
     "text": [
      "Trial 2 Complete [00h 02m 20s]\n",
      "val_loss: 0.18431484699249268\n",
      "\n",
      "Best val_loss So Far: 0.18036608397960663\n",
      "Total elapsed time: 00h 04m 41s\n",
      "INFO:tensorflow:Oracle triggered exit\n"
     ]
    }
   ],
   "source": [
    "model.parameter_search(\n",
    "        X_train,\n",
    "        y_train,\n",
    "        X_val,\n",
    "        y_val,\n",
    "        batch_size = 64,\n",
    "        results_path = \"./search_1\",\n",
    "        patience=3,\n",
    "        loss = \"mse\",\n",
    "        max_trials = 2,\n",
    "        executions_per_trial = 1,\n",
    "        num_filters = [4, 6, 8],\n",
    "        neurons_output = [16],\n",
    "        kernel_size = [5, 9, 13, 17],\n",
    "        dilation_base = [2],\n",
    "        dropout_rate = [0.1, 0.2, 0.3],\n",
    "        key_value_size = [4, 6, 8],\n",
    "        num_attention_heads = [1, 2],\n",
    "        activation = [\"elu\"],\n",
    "        kernel_initializer = [\"he_normal\"],\n",
    "        batch_norm_tcn = [False],\n",
    "        layer_norm_tcn = [True],\n",
    "        padding_encoder = ['same', 'causal'],\n",
    "        padding_decoder = ['same', 'causal']\n",
    "    )\n"
   ]
  }
 ],
 "metadata": {
  "kernelspec": {
   "display_name": "Python 3",
   "language": "python",
   "name": "python3"
  },
  "language_info": {
   "codemirror_mode": {
    "name": "ipython",
    "version": 3
   },
   "file_extension": ".py",
   "mimetype": "text/x-python",
   "name": "python",
   "nbconvert_exporter": "python",
   "pygments_lexer": "ipython3",
   "version": "3.8.5"
  }
 },
 "nbformat": 4,
 "nbformat_minor": 1
}